{
 "cells": [
  {
   "cell_type": "markdown",
   "metadata": {},
   "source": [
    "# CHAPTER 10 | Introduction to Articial Neural Networks with Keras\n",
    "\n",
    "## The Perceptron"
   ]
  },
  {
   "cell_type": "code",
   "execution_count": 1,
   "metadata": {},
   "outputs": [],
   "source": [
    "import numpy as np\n",
    "from sklearn.datasets import load_iris\n",
    "from sklearn.linear_model import Perceptron"
   ]
  },
  {
   "cell_type": "code",
   "execution_count": 2,
   "metadata": {},
   "outputs": [],
   "source": [
    "iris = load_iris()\n",
    "\n",
    "X = iris.data[:, (2, 3)]\n",
    "y = (iris.target == 0).astype(np.int) # Is Iris Setosa ?"
   ]
  },
  {
   "cell_type": "code",
   "execution_count": 3,
   "metadata": {},
   "outputs": [
    {
     "data": {
      "text/plain": [
       "Perceptron(alpha=0.0001, class_weight=None, early_stopping=False, eta0=1.0,\n",
       "           fit_intercept=True, max_iter=1000, n_iter_no_change=5, n_jobs=None,\n",
       "           penalty=None, random_state=0, shuffle=True, tol=0.001,\n",
       "           validation_fraction=0.1, verbose=0, warm_start=False)"
      ]
     },
     "execution_count": 3,
     "metadata": {},
     "output_type": "execute_result"
    }
   ],
   "source": [
    "per_clf = Perceptron(max_iter=1000, tol=1e-3)\n",
    "per_clf.fit(X, y)"
   ]
  },
  {
   "cell_type": "code",
   "execution_count": 4,
   "metadata": {},
   "outputs": [
    {
     "data": {
      "text/plain": [
       "array([0])"
      ]
     },
     "execution_count": 4,
     "metadata": {},
     "output_type": "execute_result"
    }
   ],
   "source": [
    "y_pred = per_clf.predict([[2, 0.5]])\n",
    "y_pred # Should be 1, aka true"
   ]
  },
  {
   "cell_type": "markdown",
   "metadata": {},
   "source": [
    "## Implementing MLPs with Keras"
   ]
  },
  {
   "cell_type": "code",
   "execution_count": 5,
   "metadata": {},
   "outputs": [],
   "source": [
    "import tensorflow as tf\n",
    "from tensorflow import keras"
   ]
  },
  {
   "cell_type": "code",
   "execution_count": 6,
   "metadata": {},
   "outputs": [
    {
     "name": "stdout",
     "output_type": "stream",
     "text": [
      "2.0.0\n",
      "2.2.4-tf\n"
     ]
    }
   ],
   "source": [
    "print(tf.__version__)\n",
    "print(keras.__version__)"
   ]
  },
  {
   "cell_type": "markdown",
   "metadata": {},
   "source": [
    "### Building an image classifier user the sequential API"
   ]
  },
  {
   "cell_type": "code",
   "execution_count": 7,
   "metadata": {},
   "outputs": [],
   "source": [
    "#Loading the dataset\n",
    "\n",
    "fashion_mnist = keras.datasets.fashion_mnist\n",
    "(X_train_full, y_train_full), (X_test, y_test) = fashion_mnist.load_data()"
   ]
  },
  {
   "cell_type": "code",
   "execution_count": 8,
   "metadata": {},
   "outputs": [
    {
     "name": "stdout",
     "output_type": "stream",
     "text": [
      "(60000, 28, 28)\n",
      "uint8\n"
     ]
    }
   ],
   "source": [
    "print(X_train_full.shape)\n",
    "print(X_train_full.dtype)"
   ]
  },
  {
   "cell_type": "code",
   "execution_count": 9,
   "metadata": {},
   "outputs": [],
   "source": [
    "X_valid, X_train = X_train_full[:5000] / 255.0, X_train_full[5000:] / 255.0\n",
    "y_valid, y_train = y_train_full[:5000], y_train_full[5000:]"
   ]
  },
  {
   "cell_type": "code",
   "execution_count": 10,
   "metadata": {},
   "outputs": [],
   "source": [
    "class_names = [\"T-shirt/top\", \"Trouser\", \"Pullover\", \"Dress\", \"Coat\", \"Sandal\", \"Shirt\", \"Sneaker\", \"Bag\", \"Ankle boot\"]"
   ]
  },
  {
   "cell_type": "code",
   "execution_count": 11,
   "metadata": {},
   "outputs": [
    {
     "data": {
      "text/plain": [
       "'Coat'"
      ]
     },
     "execution_count": 11,
     "metadata": {},
     "output_type": "execute_result"
    }
   ],
   "source": [
    "class_names[y_train[0]]"
   ]
  },
  {
   "cell_type": "code",
   "execution_count": 12,
   "metadata": {},
   "outputs": [],
   "source": [
    "# Creating the Model using the sequential API\n",
    "\n",
    "model = keras.models.Sequential()\n",
    "model.add(keras.layers.Flatten(input_shape=[28, 28]))\n",
    "model.add(keras.layers.Dense(300, activation=\"relu\"))\n",
    "model.add(keras.layers.Dense(100, activation=\"relu\"))\n",
    "model.add(keras.layers.Dense(10, activation=\"softmax\"))"
   ]
  },
  {
   "cell_type": "code",
   "execution_count": 13,
   "metadata": {},
   "outputs": [
    {
     "name": "stdout",
     "output_type": "stream",
     "text": [
      "Model: \"sequential\"\n",
      "_________________________________________________________________\n",
      "Layer (type)                 Output Shape              Param #   \n",
      "=================================================================\n",
      "flatten (Flatten)            (None, 784)               0         \n",
      "_________________________________________________________________\n",
      "dense (Dense)                (None, 300)               235500    \n",
      "_________________________________________________________________\n",
      "dense_1 (Dense)              (None, 100)               30100     \n",
      "_________________________________________________________________\n",
      "dense_2 (Dense)              (None, 10)                1010      \n",
      "=================================================================\n",
      "Total params: 266,610\n",
      "Trainable params: 266,610\n",
      "Non-trainable params: 0\n",
      "_________________________________________________________________\n"
     ]
    }
   ],
   "source": [
    "model.summary()"
   ]
  },
  {
   "cell_type": "code",
   "execution_count": 14,
   "metadata": {},
   "outputs": [
    {
     "data": {
      "text/plain": [
       "[<tensorflow.python.keras.layers.core.Flatten at 0x14475f07eb8>,\n",
       " <tensorflow.python.keras.layers.core.Dense at 0x144724ee240>,\n",
       " <tensorflow.python.keras.layers.core.Dense at 0x14472aee940>,\n",
       " <tensorflow.python.keras.layers.core.Dense at 0x1447e1495c0>]"
      ]
     },
     "execution_count": 14,
     "metadata": {},
     "output_type": "execute_result"
    }
   ],
   "source": [
    "model.layers"
   ]
  },
  {
   "cell_type": "code",
   "execution_count": 15,
   "metadata": {},
   "outputs": [],
   "source": [
    "model.compile(loss=\"sparse_categorical_crossentropy\", optimizer=\"sgd\", metrics=[\"accuracy\"])"
   ]
  },
  {
   "cell_type": "markdown",
   "metadata": {},
   "source": [
    "### Training and Evaluating the Model"
   ]
  },
  {
   "cell_type": "code",
   "execution_count": 16,
   "metadata": {},
   "outputs": [
    {
     "name": "stdout",
     "output_type": "stream",
     "text": [
      "Train on 55000 samples, validate on 5000 samples\n",
      "Epoch 1/30\n",
      "55000/55000 [==============================] - 7s 133us/sample - loss: 0.7077 - accuracy: 0.7671 - val_loss: 0.5004 - val_accuracy: 0.8296\n",
      "Epoch 2/30\n",
      "55000/55000 [==============================] - 4s 73us/sample - loss: 0.4867 - accuracy: 0.8307 - val_loss: 0.4485 - val_accuracy: 0.8480\n",
      "Epoch 3/30\n",
      "55000/55000 [==============================] - 4s 71us/sample - loss: 0.4444 - accuracy: 0.8446 - val_loss: 0.4314 - val_accuracy: 0.8514\n",
      "Epoch 4/30\n",
      "55000/55000 [==============================] - 4s 69us/sample - loss: 0.4198 - accuracy: 0.8525 - val_loss: 0.3905 - val_accuracy: 0.8672\n",
      "Epoch 5/30\n",
      "55000/55000 [==============================] - 4s 67us/sample - loss: 0.3974 - accuracy: 0.8613 - val_loss: 0.4076 - val_accuracy: 0.8576\n",
      "Epoch 6/30\n",
      "55000/55000 [==============================] - 4s 68us/sample - loss: 0.3816 - accuracy: 0.8660 - val_loss: 0.3994 - val_accuracy: 0.8592\n",
      "Epoch 7/30\n",
      "55000/55000 [==============================] - 4s 69us/sample - loss: 0.3678 - accuracy: 0.8701 - val_loss: 0.3650 - val_accuracy: 0.8726\n",
      "Epoch 8/30\n",
      "55000/55000 [==============================] - 4s 69us/sample - loss: 0.3557 - accuracy: 0.8744 - val_loss: 0.3582 - val_accuracy: 0.8780\n",
      "Epoch 9/30\n",
      "55000/55000 [==============================] - 4s 70us/sample - loss: 0.3442 - accuracy: 0.8790 - val_loss: 0.3495 - val_accuracy: 0.8762\n",
      "Epoch 10/30\n",
      "55000/55000 [==============================] - 4s 69us/sample - loss: 0.3360 - accuracy: 0.8806 - val_loss: 0.3414 - val_accuracy: 0.8848\n",
      "Epoch 11/30\n",
      "55000/55000 [==============================] - 4s 66us/sample - loss: 0.3260 - accuracy: 0.8845 - val_loss: 0.3614 - val_accuracy: 0.8724\n",
      "Epoch 12/30\n",
      "55000/55000 [==============================] - 4s 68us/sample - loss: 0.3188 - accuracy: 0.8862 - val_loss: 0.3407 - val_accuracy: 0.8786\n",
      "Epoch 13/30\n",
      "55000/55000 [==============================] - 4s 69us/sample - loss: 0.3110 - accuracy: 0.8903 - val_loss: 0.3263 - val_accuracy: 0.8830\n",
      "Epoch 14/30\n",
      "55000/55000 [==============================] - 4s 69us/sample - loss: 0.3044 - accuracy: 0.8916 - val_loss: 0.3393 - val_accuracy: 0.8806\n",
      "Epoch 15/30\n",
      "55000/55000 [==============================] - 4s 68us/sample - loss: 0.2981 - accuracy: 0.8923 - val_loss: 0.3379 - val_accuracy: 0.8804\n",
      "Epoch 16/30\n",
      "55000/55000 [==============================] - 4s 67us/sample - loss: 0.2911 - accuracy: 0.8960 - val_loss: 0.3294 - val_accuracy: 0.8782\n",
      "Epoch 17/30\n",
      "55000/55000 [==============================] - 4s 67us/sample - loss: 0.2866 - accuracy: 0.8972 - val_loss: 0.3339 - val_accuracy: 0.8830\n",
      "Epoch 18/30\n",
      "55000/55000 [==============================] - 4s 67us/sample - loss: 0.2797 - accuracy: 0.8995 - val_loss: 0.3182 - val_accuracy: 0.8858\n",
      "Epoch 19/30\n",
      "55000/55000 [==============================] - 4s 66us/sample - loss: 0.2751 - accuracy: 0.9003 - val_loss: 0.3284 - val_accuracy: 0.8848\n",
      "Epoch 20/30\n",
      "55000/55000 [==============================] - 4s 66us/sample - loss: 0.2694 - accuracy: 0.9034 - val_loss: 0.3138 - val_accuracy: 0.8844\n",
      "Epoch 21/30\n",
      "55000/55000 [==============================] - 4s 66us/sample - loss: 0.2647 - accuracy: 0.9047 - val_loss: 0.3314 - val_accuracy: 0.8786\n",
      "Epoch 22/30\n",
      "55000/55000 [==============================] - 4s 67us/sample - loss: 0.2603 - accuracy: 0.9066 - val_loss: 0.3056 - val_accuracy: 0.8862\n",
      "Epoch 23/30\n",
      "55000/55000 [==============================] - 4s 67us/sample - loss: 0.2557 - accuracy: 0.9081 - val_loss: 0.3014 - val_accuracy: 0.8922\n",
      "Epoch 24/30\n",
      "55000/55000 [==============================] - 4s 66us/sample - loss: 0.2512 - accuracy: 0.9091 - val_loss: 0.3051 - val_accuracy: 0.8926\n",
      "Epoch 25/30\n",
      "55000/55000 [==============================] - 4s 67us/sample - loss: 0.2461 - accuracy: 0.9119 - val_loss: 0.2973 - val_accuracy: 0.8920\n",
      "Epoch 26/30\n",
      "55000/55000 [==============================] - 4s 66us/sample - loss: 0.2421 - accuracy: 0.9124 - val_loss: 0.2988 - val_accuracy: 0.8920\n",
      "Epoch 27/30\n",
      "55000/55000 [==============================] - 4s 64us/sample - loss: 0.2366 - accuracy: 0.9148 - val_loss: 0.3032 - val_accuracy: 0.8914\n",
      "Epoch 28/30\n",
      "55000/55000 [==============================] - 4s 64us/sample - loss: 0.2339 - accuracy: 0.9148 - val_loss: 0.2961 - val_accuracy: 0.8946\n",
      "Epoch 29/30\n",
      "55000/55000 [==============================] - 4s 64us/sample - loss: 0.2297 - accuracy: 0.9173 - val_loss: 0.3046 - val_accuracy: 0.8884\n",
      "Epoch 30/30\n",
      "55000/55000 [==============================] - 4s 64us/sample - loss: 0.2260 - accuracy: 0.9189 - val_loss: 0.2930 - val_accuracy: 0.8920\n"
     ]
    }
   ],
   "source": [
    "history = model.fit(X_train, y_train, epochs=30, validation_data=(X_valid, y_valid))"
   ]
  },
  {
   "cell_type": "code",
   "execution_count": 17,
   "metadata": {},
   "outputs": [
    {
     "data": {
      "image/png": "[encoded data removed]",
      "text/plain": [
       "<Figure size 576x360 with 1 Axes>"
      ]
     },
     "metadata": {
      "needs_background": "light"
     },
     "output_type": "display_data"
    }
   ],
   "source": [
    "%matplotlib inline\n",
    "\n",
    "import pandas as pd\n",
    "import matplotlib.pyplot as plt\n",
    "\n",
    "pd.DataFrame(history.history).plot(figsize=(8, 5))\n",
    "plt.grid(True)\n",
    "plt.gca().set_ylim(0, 1)\n",
    "plt.show()"
   ]
  },
  {
   "cell_type": "code",
   "execution_count": null,
   "metadata": {},
   "outputs": [],
   "source": [
    "model.evaluate(X_test, y_test)"
   ]
  },
  {
   "cell_type": "markdown",
   "metadata": {},
   "source": [
    "### Using the Model to Make Predictions"
   ]
  },
  {
   "cell_type": "code",
   "execution_count": 19,
   "metadata": {},
   "outputs": [
    {
     "data": {
      "text/plain": [
       "array([[0., 0., 0., 0., 0., 0., 0., 0., 0., 1.],\n",
       "       [0., 0., 1., 0., 0., 0., 0., 0., 0., 0.],\n",
       "       [0., 1., 0., 0., 0., 0., 0., 0., 0., 0.]], dtype=float32)"
      ]
     },
     "execution_count": 19,
     "metadata": {},
     "output_type": "execute_result"
    }
   ],
   "source": [
    "X_new = X_test[:3]\n",
    "y_proba = model.predict(X_new)\n",
    "y_proba.round(2)"
   ]
  },
  {
   "cell_type": "code",
   "execution_count": 20,
   "metadata": {},
   "outputs": [
    {
     "data": {
      "text/plain": [
       "array([9, 2, 1], dtype=int64)"
      ]
     },
     "execution_count": 20,
     "metadata": {},
     "output_type": "execute_result"
    }
   ],
   "source": [
    "y_pred = model.predict_classes(X_new)\n",
    "y_pred"
   ]
  },
  {
   "cell_type": "code",
   "execution_count": 21,
   "metadata": {},
   "outputs": [
    {
     "data": {
      "text/plain": [
       "array(['Ankle boot', 'Pullover', 'Trouser'], dtype='<U11')"
      ]
     },
     "execution_count": 21,
     "metadata": {},
     "output_type": "execute_result"
    }
   ],
   "source": [
    "np.array(class_names)[y_pred]"
   ]
  },
  {
   "cell_type": "code",
   "execution_count": 22,
   "metadata": {},
   "outputs": [
    {
     "data": {
      "text/plain": [
       "array([9, 2, 1], dtype=uint8)"
      ]
     },
     "execution_count": 22,
     "metadata": {},
     "output_type": "execute_result"
    }
   ],
   "source": [
    "y_new = y_test[:3]\n",
    "y_new"
   ]
  },
  {
   "cell_type": "markdown",
   "metadata": {},
   "source": [
    "### Building a Regression MLP Using the Sequential API"
   ]
  },
  {
   "cell_type": "code",
   "execution_count": 23,
   "metadata": {},
   "outputs": [],
   "source": [
    "from sklearn.datasets import fetch_california_housing\n",
    "from sklearn.model_selection import train_test_split\n",
    "from sklearn.preprocessing import StandardScaler"
   ]
  },
  {
   "cell_type": "code",
   "execution_count": 24,
   "metadata": {},
   "outputs": [],
   "source": [
    "housing = fetch_california_housing()"
   ]
  },
  {
   "cell_type": "code",
   "execution_count": 25,
   "metadata": {},
   "outputs": [],
   "source": [
    "X_train_full, X_test, y_train_full, y_test = train_test_split(housing.data, housing.target)\n",
    "X_train, X_valid, y_train, y_valid = train_test_split(X_train_full, y_train_full)"
   ]
  },
  {
   "cell_type": "code",
   "execution_count": 26,
   "metadata": {},
   "outputs": [],
   "source": [
    "scaler = StandardScaler()\n",
    "X_train = scaler.fit_transform(X_train)\n",
    "X_valid = scaler.transform(X_valid)\n",
    "X_test = scaler.transform(X_test)"
   ]
  },
  {
   "cell_type": "code",
   "execution_count": 27,
   "metadata": {},
   "outputs": [],
   "source": [
    "# building the model\n",
    "\n",
    "model = keras.models.Sequential([\n",
    "    keras.layers.Dense(30, activation='relu', input_shape=X_train.shape[1:]),\n",
    "    keras.layers.Dense(1)\n",
    "])\n",
    "\n",
    "model.compile(loss='mean_squared_error', optimizer=\"sgd\")"
   ]
  },
  {
   "cell_type": "code",
   "execution_count": 28,
   "metadata": {},
   "outputs": [
    {
     "name": "stdout",
     "output_type": "stream",
     "text": [
      "Train on 11610 samples, validate on 3870 samples\n",
      "Epoch 1/20\n",
      "11610/11610 [==============================] - 2s 130us/sample - loss: 0.9746 - val_loss: 0.5406\n",
      "Epoch 2/20\n",
      "11610/11610 [==============================] - 1s 66us/sample - loss: 0.5099 - val_loss: 0.4908\n",
      "Epoch 3/20\n",
      "11610/11610 [==============================] - 1s 65us/sample - loss: 0.4891 - val_loss: 0.4666\n",
      "Epoch 4/20\n",
      "11610/11610 [==============================] - 1s 65us/sample - loss: 0.5931 - val_loss: 0.4668\n",
      "Epoch 5/20\n",
      "11610/11610 [==============================] - 1s 65us/sample - loss: 0.4617 - val_loss: 0.4546\n",
      "Epoch 6/20\n",
      "11610/11610 [==============================] - 1s 65us/sample - loss: 0.4453 - val_loss: 0.4463\n",
      "Epoch 7/20\n",
      "11610/11610 [==============================] - 1s 66us/sample - loss: 0.4389 - val_loss: 0.4450\n",
      "Epoch 8/20\n",
      "11610/11610 [==============================] - 1s 65us/sample - loss: 0.4349 - val_loss: 0.4372\n",
      "Epoch 9/20\n",
      "11610/11610 [==============================] - 1s 65us/sample - loss: 0.4269 - val_loss: 0.4315\n",
      "Epoch 10/20\n",
      "11610/11610 [==============================] - 1s 66us/sample - loss: 0.4209 - val_loss: 0.4234\n",
      "Epoch 11/20\n",
      "11610/11610 [==============================] - 1s 65us/sample - loss: 0.4164 - val_loss: 0.4194\n",
      "Epoch 12/20\n",
      "11610/11610 [==============================] - 1s 65us/sample - loss: 0.4208 - val_loss: 0.4188\n",
      "Epoch 13/20\n",
      "11610/11610 [==============================] - 1s 65us/sample - loss: 0.4082 - val_loss: 0.4177\n",
      "Epoch 14/20\n",
      "11610/11610 [==============================] - 1s 65us/sample - loss: 0.4045 - val_loss: 0.4070\n",
      "Epoch 15/20\n",
      "11610/11610 [==============================] - 1s 66us/sample - loss: 0.3998 - val_loss: 0.4056\n",
      "Epoch 16/20\n",
      "11610/11610 [==============================] - 1s 65us/sample - loss: 0.3972 - val_loss: 0.3996\n",
      "Epoch 17/20\n",
      "11610/11610 [==============================] - 1s 65us/sample - loss: 0.3937 - val_loss: 0.3977\n",
      "Epoch 18/20\n",
      "11610/11610 [==============================] - 1s 66us/sample - loss: 0.3911 - val_loss: 0.3931\n",
      "Epoch 19/20\n",
      "11610/11610 [==============================] - 1s 65us/sample - loss: 0.3875 - val_loss: 0.3901\n",
      "Epoch 20/20\n",
      "11610/11610 [==============================] - 1s 66us/sample - loss: 0.3844 - val_loss: 0.3880\n"
     ]
    }
   ],
   "source": [
    "history = model.fit(X_train, y_train, epochs=20, validation_data=(X_valid, y_valid))"
   ]
  },
  {
   "cell_type": "code",
   "execution_count": null,
   "metadata": {},
   "outputs": [],
   "source": [
    "mse_test = model.evaluate(X_test, y_test)\n",
    "X_new = X_test[:3] # pretend these are new instances\n",
    "y_pred = model.predict(X_new)"
   ]
  },
  {
   "cell_type": "code",
   "execution_count": 30,
   "metadata": {},
   "outputs": [
    {
     "data": {
      "image/png": "[encoded data removed]",
      "text/plain": [
       "<Figure size 432x288 with 1 Axes>"
      ]
     },
     "metadata": {
      "needs_background": "light"
     },
     "output_type": "display_data"
    }
   ],
   "source": [
    "plt.plot(pd.DataFrame(history.history))\n",
    "plt.grid(True)\n",
    "plt.gca().set_ylim(0, 1)\n",
    "plt.show()"
   ]
  },
  {
   "cell_type": "markdown",
   "metadata": {},
   "source": [
    "### Building Complex Models Using the Functional API"
   ]
  },
  {
   "cell_type": "code",
   "execution_count": 31,
   "metadata": {},
   "outputs": [],
   "source": [
    "input_ = keras.layers.Input(shape=X_train.shape[1:])\n",
    "\n",
    "hidden1 = keras.layers.Dense(30, activation=\"relu\")(input_)\n",
    "hidden2 = keras.layers.Dense(30, activation=\"relu\")(hidden1)\n",
    "concat = keras.layers.concatenate([input_, hidden2])\n",
    "\n",
    "output = keras.layers.Dense(1)(concat)\n",
    "\n",
    "model = keras.models.Model(inputs=[input_], outputs=[output])"
   ]
  },
  {
   "cell_type": "markdown",
   "metadata": {},
   "source": [
    "![](./images/chap10/figure10-13.png)"
   ]
  },
  {
   "cell_type": "code",
   "execution_count": null,
   "metadata": {},
   "outputs": [],
   "source": [
    "model.compile(loss=\"mean_squared_error\", optimizer=keras.optimizers.SGD(lr=1e-3))\n",
    "history = model.fit(X_train, y_train, epochs=20,\n",
    "                    validation_data=(X_valid, y_valid))\n",
    "mse_test = model.evaluate(X_test, y_test)\n",
    "y_pred = model.predict(X_new)"
   ]
  },
  {
   "cell_type": "code",
   "execution_count": 33,
   "metadata": {},
   "outputs": [
    {
     "data": {
      "image/png": "[encoded data removed]",
      "text/plain": [
       "<Figure size 432x288 with 1 Axes>"
      ]
     },
     "metadata": {
      "needs_background": "light"
     },
     "output_type": "display_data"
    }
   ],
   "source": [
    "plt.plot(pd.DataFrame(history.history))\n",
    "plt.grid(True)\n",
    "plt.gca().set_ylim(0, 1)\n",
    "plt.show()"
   ]
  },
  {
   "cell_type": "code",
   "execution_count": 34,
   "metadata": {},
   "outputs": [],
   "source": [
    "input_A = keras.layers.Input(shape=[5], name=\"wide_input\")\n",
    "input_B = keras.layers.Input(shape=[6], name=\"deep_input\")\n",
    "\n",
    "hidden1 = keras.layers.Dense(30, activation=\"relu\")(input_B)\n",
    "hidden2 = keras.layers.Dense(30, activation=\"relu\")(hidden1)\n",
    "concat = keras.layers.concatenate([input_A, hidden2])\n",
    "\n",
    "output = keras.layers.Dense(1, name=\"output\")(concat)\n",
    "\n",
    "model = keras.models.Model(inputs=[input_A, input_B], outputs=[output])"
   ]
  },
  {
   "cell_type": "markdown",
   "metadata": {},
   "source": [
    "![](./images/chap10/figure10-14.png)"
   ]
  },
  {
   "cell_type": "code",
   "execution_count": 35,
   "metadata": {},
   "outputs": [
    {
     "name": "stdout",
     "output_type": "stream",
     "text": [
      "Train on 11610 samples, validate on 3870 samples\n",
      "Epoch 1/20\n",
      "11610/11610 [==============================] - 1s 92us/sample - loss: 1.7223 - val_loss: 0.7631\n",
      "Epoch 2/20\n",
      "11610/11610 [==============================] - 1s 72us/sample - loss: 0.6990 - val_loss: 0.6644\n",
      "Epoch 3/20\n",
      "11610/11610 [==============================] - 1s 73us/sample - loss: 0.6343 - val_loss: 0.6280\n",
      "Epoch 4/20\n",
      "11610/11610 [==============================] - 1s 73us/sample - loss: 0.6042 - val_loss: 0.6016\n",
      "Epoch 5/20\n",
      "11610/11610 [==============================] - 1s 72us/sample - loss: 0.5827 - val_loss: 0.5812\n",
      "Epoch 6/20\n",
      "11610/11610 [==============================] - 1s 71us/sample - loss: 0.5660 - val_loss: 0.5656\n",
      "Epoch 7/20\n",
      "11610/11610 [==============================] - 1s 73us/sample - loss: 0.5519 - val_loss: 0.5521\n",
      "Epoch 8/20\n",
      "11610/11610 [==============================] - 1s 72us/sample - loss: 0.5413 - val_loss: 0.5419\n",
      "Epoch 9/20\n",
      "11610/11610 [==============================] - 1s 72us/sample - loss: 0.5320 - val_loss: 0.5334\n",
      "Epoch 10/20\n",
      "11610/11610 [==============================] - 1s 72us/sample - loss: 0.5235 - val_loss: 0.5251\n",
      "Epoch 11/20\n",
      "11610/11610 [==============================] - 1s 73us/sample - loss: 0.5172 - val_loss: 0.5183\n",
      "Epoch 12/20\n",
      "11610/11610 [==============================] - 1s 72us/sample - loss: 0.5105 - val_loss: 0.5148\n",
      "Epoch 13/20\n",
      "11610/11610 [==============================] - 1s 72us/sample - loss: 0.5064 - val_loss: 0.5060\n",
      "Epoch 14/20\n",
      "11610/11610 [==============================] - 1s 72us/sample - loss: 0.5004 - val_loss: 0.5010\n",
      "Epoch 15/20\n",
      "11610/11610 [==============================] - 1s 73us/sample - loss: 0.4961 - val_loss: 0.4960\n",
      "Epoch 16/20\n",
      "11610/11610 [==============================] - 1s 72us/sample - loss: 0.4924 - val_loss: 0.4941\n",
      "Epoch 17/20\n",
      "11610/11610 [==============================] - 1s 72us/sample - loss: 0.4883 - val_loss: 0.4891\n",
      "Epoch 18/20\n",
      "11610/11610 [==============================] - 1s 73us/sample - loss: 0.4857 - val_loss: 0.4854\n",
      "Epoch 19/20\n",
      "11610/11610 [==============================] - 1s 73us/sample - loss: 0.4824 - val_loss: 0.4835\n",
      "Epoch 20/20\n",
      "11610/11610 [==============================] - 1s 72us/sample - loss: 0.4798 - val_loss: 0.4802\n"
     ]
    }
   ],
   "source": [
    "model.compile(loss=\"mse\", optimizer=keras.optimizers.SGD(lr=1e-3))\n",
    "\n",
    "X_train_A, X_train_B = X_train[:, :5], X_train[:, 2:]\n",
    "X_valid_A, X_valid_B = X_valid[:, :5], X_valid[:, 2:]\n",
    "X_test_A, X_test_B = X_test[:, :5], X_test[:, 2:]\n",
    "X_new_A, X_new_B = X_test_A[:3], X_test_B[:3]\n",
    "\n",
    "history = model.fit((X_train_A, X_train_B), y_train, epochs=20,\n",
    "                    validation_data=((X_valid_A, X_valid_B), y_valid))"
   ]
  },
  {
   "cell_type": "code",
   "execution_count": 36,
   "metadata": {},
   "outputs": [
    {
     "data": {
      "image/png": "[encoded data removed]",
      "text/plain": [
       "<Figure size 432x288 with 1 Axes>"
      ]
     },
     "metadata": {
      "needs_background": "light"
     },
     "output_type": "display_data"
    }
   ],
   "source": [
    "plt.plot(pd.DataFrame(history.history))\n",
    "plt.grid(True)\n",
    "plt.gca().set_ylim(0, 1)\n",
    "plt.show()"
   ]
  },
  {
   "cell_type": "code",
   "execution_count": null,
   "metadata": {},
   "outputs": [],
   "source": [
    "mse_test = model.evaluate((X_test_A, X_test_B), y_test)\n",
    "y_pred = model.predict((X_new_A, X_new_B))"
   ]
  },
  {
   "cell_type": "code",
   "execution_count": 48,
   "metadata": {},
   "outputs": [],
   "source": [
    "# Modol w/ multiple outputs\n",
    "\n",
    "input_A = keras.layers.Input(shape=[5], name=\"wide_input\")\n",
    "input_B = keras.layers.Input(shape=[6], name=\"deep_input\")\n",
    "\n",
    "hidden1 = keras.layers.Dense(30, activation=\"relu\")(input_B)\n",
    "hidden2 = keras.layers.Dense(30, activation=\"relu\")(hidden1)\n",
    "concat = keras.layers.concatenate([input_A, hidden2])\n",
    "\n",
    "output = keras.layers.Dense(1, name=\"output\")(concat)\n",
    "aux_output = keras.layers.Dense(1, name=\"aux_output\")(hidden2)\n",
    "\n",
    "model = keras.models.Model(inputs=[input_A, input_B], outputs=[output, aux_output])"
   ]
  },
  {
   "cell_type": "code",
   "execution_count": 39,
   "metadata": {},
   "outputs": [
    {
     "name": "stdout",
     "output_type": "stream",
     "text": [
      "Train on 11610 samples, validate on 3870 samples\n",
      "Epoch 1/20\n",
      "11610/11610 [==============================] - 2s 139us/sample - loss: 0.9023 - output_loss: 0.8083 - aux_output_loss: 1.7463 - val_loss: 0.6768 - val_output_loss: 0.6092 - val_aux_output_loss: 1.2861\n",
      "Epoch 2/20\n",
      "11610/11610 [==============================] - 1s 94us/sample - loss: 0.6379 - output_loss: 0.5792 - aux_output_loss: 1.1691 - val_loss: 0.5888 - val_output_loss: 0.5346 - val_aux_output_loss: 1.0764\n",
      "Epoch 3/20\n",
      "11610/11610 [==============================] - 1s 95us/sample - loss: 0.5586 - output_loss: 0.5124 - aux_output_loss: 0.9731 - val_loss: 0.5420 - val_output_loss: 0.5000 - val_aux_output_loss: 0.9193\n",
      "Epoch 4/20\n",
      "11610/11610 [==============================] - 1s 92us/sample - loss: 0.5217 - output_loss: 0.4859 - aux_output_loss: 0.8467 - val_loss: 0.5145 - val_output_loss: 0.4808 - val_aux_output_loss: 0.8175\n",
      "Epoch 5/20\n",
      "11610/11610 [==============================] - 1s 93us/sample - loss: 0.5014 - output_loss: 0.4720 - aux_output_loss: 0.7649 - val_loss: 0.5009 - val_output_loss: 0.4718 - val_aux_output_loss: 0.7612\n",
      "Epoch 6/20\n",
      "11610/11610 [==============================] - 1s 89us/sample - loss: 0.4879 - output_loss: 0.4621 - aux_output_loss: 0.7199 - val_loss: 0.4848 - val_output_loss: 0.4589 - val_aux_output_loss: 0.7181\n",
      "Epoch 7/20\n",
      "11610/11610 [==============================] - 1s 93us/sample - loss: 0.4754 - output_loss: 0.4521 - aux_output_loss: 0.6843 - val_loss: 0.4753 - val_output_loss: 0.4517 - val_aux_output_loss: 0.6864\n",
      "Epoch 8/20\n",
      "11610/11610 [==============================] - 1s 88us/sample - loss: 0.4657 - output_loss: 0.4446 - aux_output_loss: 0.6571 - val_loss: 0.4625 - val_output_loss: 0.4402 - val_aux_output_loss: 0.6630\n",
      "Epoch 9/20\n",
      "11610/11610 [==============================] - 1s 91us/sample - loss: 0.4647 - output_loss: 0.4454 - aux_output_loss: 0.6389 - val_loss: 0.4576 - val_output_loss: 0.4363 - val_aux_output_loss: 0.6491\n",
      "Epoch 10/20\n",
      "11610/11610 [==============================] - 1s 91us/sample - loss: 0.4497 - output_loss: 0.4305 - aux_output_loss: 0.6222 - val_loss: 0.4481 - val_output_loss: 0.4279 - val_aux_output_loss: 0.6291\n",
      "Epoch 11/20\n",
      "11610/11610 [==============================] - 1s 89us/sample - loss: 0.4668 - output_loss: 0.4504 - aux_output_loss: 0.6148 - val_loss: 0.4385 - val_output_loss: 0.4190 - val_aux_output_loss: 0.6132\n",
      "Epoch 12/20\n",
      "11610/11610 [==============================] - 1s 90us/sample - loss: 0.4427 - output_loss: 0.4250 - aux_output_loss: 0.6005 - val_loss: 0.4334 - val_output_loss: 0.4146 - val_aux_output_loss: 0.6016\n",
      "Epoch 13/20\n",
      "11610/11610 [==============================] - 1s 89us/sample - loss: 0.4263 - output_loss: 0.4088 - aux_output_loss: 0.5846 - val_loss: 0.4212 - val_output_loss: 0.4023 - val_aux_output_loss: 0.5900\n",
      "Epoch 14/20\n",
      "11610/11610 [==============================] - 1s 89us/sample - loss: 0.4192 - output_loss: 0.4024 - aux_output_loss: 0.5723 - val_loss: 0.4122 - val_output_loss: 0.3938 - val_aux_output_loss: 0.5766\n",
      "Epoch 15/20\n",
      "11610/11610 [==============================] - 1s 87us/sample - loss: 0.4127 - output_loss: 0.3962 - aux_output_loss: 0.5622 - val_loss: 0.4083 - val_output_loss: 0.3902 - val_aux_output_loss: 0.5703\n",
      "Epoch 16/20\n",
      "11610/11610 [==============================] - 1s 88us/sample - loss: 0.4073 - output_loss: 0.3915 - aux_output_loss: 0.5494 - val_loss: 0.3991 - val_output_loss: 0.3818 - val_aux_output_loss: 0.5533\n",
      "Epoch 17/20\n",
      "11610/11610 [==============================] - 1s 89us/sample - loss: 0.4056 - output_loss: 0.3900 - aux_output_loss: 0.5456 - val_loss: 0.3936 - val_output_loss: 0.3766 - val_aux_output_loss: 0.5452\n",
      "Epoch 18/20\n",
      "11610/11610 [==============================] - 1s 87us/sample - loss: 0.3972 - output_loss: 0.3823 - aux_output_loss: 0.5321 - val_loss: 0.3951 - val_output_loss: 0.3786 - val_aux_output_loss: 0.5432\n",
      "Epoch 19/20\n",
      "11610/11610 [==============================] - 1s 88us/sample - loss: 0.3910 - output_loss: 0.3762 - aux_output_loss: 0.5251 - val_loss: 0.3864 - val_output_loss: 0.3696 - val_aux_output_loss: 0.5369\n",
      "Epoch 20/20\n",
      "11610/11610 [==============================] - 1s 90us/sample - loss: 0.3875 - output_loss: 0.3732 - aux_output_loss: 0.5176 - val_loss: 0.3822 - val_output_loss: 0.3670 - val_aux_output_loss: 0.5184\n"
     ]
    }
   ],
   "source": [
    "# 1 loss by output (or 1 for all (PLUS ULTRA!)) and we can apply loss_weight\n",
    "# if we give more or less value to one of the losses\n",
    "model.compile(loss=[\"mse\", \"mse\"], loss_weights=[0.9, 0.1], optimizer=\"sgd\")\n",
    "\n",
    "history = model.fit([X_train_A, X_train_B], [y_train, y_train],\n",
    "    epochs=20,\n",
    "    validation_data=(\n",
    "        [X_valid_A, X_valid_B],\n",
    "        [y_valid, y_valid]\n",
    "    )\n",
    ")"
   ]
  },
  {
   "cell_type": "code",
   "execution_count": 40,
   "metadata": {},
   "outputs": [
    {
     "data": {
      "image/png": "[encoded data removed]",
      "text/plain": [
       "<Figure size 432x288 with 1 Axes>"
      ]
     },
     "metadata": {
      "needs_background": "light"
     },
     "output_type": "display_data"
    }
   ],
   "source": [
    "plt.plot(pd.DataFrame(history.history))\n",
    "plt.grid(True)\n",
    "plt.gca().set_ylim(0, 1)\n",
    "plt.show()"
   ]
  },
  {
   "cell_type": "code",
   "execution_count": null,
   "metadata": {},
   "outputs": [],
   "source": [
    "total_loss, main_loss, aux_loss = model.evaluate([X_test_A, X_test_B], [y_test, y_test])"
   ]
  },
  {
   "cell_type": "code",
   "execution_count": 42,
   "metadata": {},
   "outputs": [
    {
     "name": "stdout",
     "output_type": "stream",
     "text": [
      "[[2.3878143]\n",
      " [2.0149055]\n",
      " [2.825224 ]] [[2.9691465]\n",
      " [2.248974 ]\n",
      " [3.0848932]]\n"
     ]
    }
   ],
   "source": [
    "y_pred_main, y_pred_aux = model.predict([X_new_A, X_new_B])\n",
    "print(y_pred_main, y_pred_aux)"
   ]
  },
  {
   "cell_type": "markdown",
   "metadata": {},
   "source": [
    "### Building Dynamic Models Using the Subclassing API"
   ]
  },
  {
   "cell_type": "code",
   "execution_count": 44,
   "metadata": {},
   "outputs": [],
   "source": [
    "class WideAndDeepModel(keras.models.Model):\n",
    "    def __init__(self, units=30, activation='relu', **kwargs):\n",
    "        super().__init__(**kwargs)\n",
    "        \n",
    "        self.hidden1 = keras.layers.Dense(units, activation=activation)\n",
    "        self.hidden2 = keras.layers.Dense(units, activation=activation)\n",
    "        \n",
    "        self.main_output = keras.layers.Dense(1)\n",
    "        self.aux_output = keras.layers.Dense(1)\n",
    "        \n",
    "    def call(self, inputs):\n",
    "        input_A, input_B = inputs\n",
    "        \n",
    "        hidden1 = self.hidden1(input_B)\n",
    "        hidden2 = self.hidden2(hidden1)\n",
    "        concat = keras.layers.concatenate([input_A, hidden2])\n",
    "        \n",
    "        main_output = self.main_output(concat)\n",
    "        aux_output = self.aux_output(hidden2)\n",
    "        \n",
    "        return main_output, aux_output"
   ]
  },
  {
   "cell_type": "code",
   "execution_count": 49,
   "metadata": {},
   "outputs": [],
   "source": [
    "subclass_model = WideAndDeepModel()"
   ]
  },
  {
   "cell_type": "markdown",
   "metadata": {},
   "source": [
    "### Saving and Restoring a Model"
   ]
  },
  {
   "cell_type": "code",
   "execution_count": 51,
   "metadata": {},
   "outputs": [],
   "source": [
    "model.save(\"./models/chap10/my_keras_model.h5\")"
   ]
  },
  {
   "cell_type": "code",
   "execution_count": 53,
   "metadata": {},
   "outputs": [
    {
     "name": "stdout",
     "output_type": "stream",
     "text": [
      "WARNING:tensorflow:No training configuration found in save file: the model was *not* compiled. Compile it manually.\n",
      "Model: \"model_3\"\n",
      "__________________________________________________________________________________________________\n",
      "Layer (type)                    Output Shape         Param #     Connected to                     \n",
      "==================================================================================================\n",
      "deep_input (InputLayer)         [(None, 6)]          0                                            \n",
      "__________________________________________________________________________________________________\n",
      "dense_16 (Dense)                (None, 30)           210         deep_input[0][0]                 \n",
      "__________________________________________________________________________________________________\n",
      "wide_input (InputLayer)         [(None, 5)]          0                                            \n",
      "__________________________________________________________________________________________________\n",
      "dense_17 (Dense)                (None, 30)           930         dense_16[0][0]                   \n",
      "__________________________________________________________________________________________________\n",
      "concatenate_3 (Concatenate)     (None, 35)           0           wide_input[0][0]                 \n",
      "                                                                 dense_17[0][0]                   \n",
      "__________________________________________________________________________________________________\n",
      "output (Dense)                  (None, 1)            36          concatenate_3[0][0]              \n",
      "__________________________________________________________________________________________________\n",
      "aux_output (Dense)              (None, 1)            31          dense_17[0][0]                   \n",
      "==================================================================================================\n",
      "Total params: 1,207\n",
      "Trainable params: 1,207\n",
      "Non-trainable params: 0\n",
      "__________________________________________________________________________________________________\n"
     ]
    }
   ],
   "source": [
    "model = keras.models.load_model(\"./models/chap10/my_keras_model.h5\")\n",
    "model.summary()"
   ]
  },
  {
   "cell_type": "markdown",
   "metadata": {},
   "source": [
    "### Using Callbacks"
   ]
  },
  {
   "cell_type": "code",
   "execution_count": 54,
   "metadata": {},
   "outputs": [],
   "source": [
    "checkpoint_cb = keras.callbacks.ModelCheckpoint(\"./models/chap10/my_keras_model_cp.h5\")"
   ]
  },
  {
   "cell_type": "code",
   "execution_count": 55,
   "metadata": {},
   "outputs": [],
   "source": [
    "# if you only want to keep the best model\n",
    "checkpoint_cb = keras.callbacks.ModelCheckpoint(\"./models/chap10/my_keras_model_cp.h5\", save_best_only=True)"
   ]
  },
  {
   "cell_type": "code",
   "execution_count": 56,
   "metadata": {},
   "outputs": [],
   "source": [
    "early_stopping_cb = keras.callbacks.EarlyStopping(patience=10, restore_best_weights=True)"
   ]
  },
  {
   "cell_type": "markdown",
   "metadata": {},
   "source": [
    "#### Custom Callbacks"
   ]
  },
  {
   "cell_type": "code",
   "execution_count": 57,
   "metadata": {},
   "outputs": [],
   "source": [
    "class PrintValTrainRatioCallback(keras.callbacks.Callback):\n",
    "    def on_epoch_end(self, epoch, logs):\n",
    "        print(\"\\nval/train: {:.2f}\".format(logs[\"val_loss\"] / logs[\"loss\"]))"
   ]
  },
  {
   "cell_type": "markdown",
   "metadata": {},
   "source": [
    "Available methods on `keras.callbacks.Callback` on_train_begin(), on_train_end(),\n",
    "on_epoch_begin(), on_epoch_begin(), on_batch_end() and on_batch_end().\n",
    "\n",
    "In this case of callbacks during evaluation or predictions, on_test_begin(), on_test_end(), on_test_batch_begin(), or on_test_batch_end() (called by evaluate()), or on_predict_begin(), on_predict_end(), on_predict_batch_begin(), or on_predict_batch_end() (called by predict())."
   ]
  },
  {
   "cell_type": "markdown",
   "metadata": {},
   "source": [
    "## Fine-Tuning Neural Network Hyperparameters"
   ]
  },
  {
   "cell_type": "code",
   "execution_count": 58,
   "metadata": {},
   "outputs": [],
   "source": [
    "def build_model(n_hidden=1, n_neurons=30, learning_rate=3e-3, input_shape=[8]):\n",
    "    model = keras.models.Sequential()\n",
    "    options = {\"input_shape\": input_shape}\n",
    "    \n",
    "    for layer in range(n_hidden):\n",
    "        model.add(keras.layers.Dense(n_neurons, activation=\"relu\", **options))\n",
    "        options = {}\n",
    "    \n",
    "    model.add(keras.layers.Dense(1, **options))\n",
    "    optimizer = keras.optimizers.SGD(learning_rate)\n",
    "    model.compile(loss=\"mse\", optimizer=optimizer)\n",
    "    \n",
    "    return model"
   ]
  },
  {
   "cell_type": "code",
   "execution_count": 59,
   "metadata": {},
   "outputs": [],
   "source": [
    "keras_reg = keras.wrappers.scikit_learn.KerasRegressor(build_model)"
   ]
  },
  {
   "cell_type": "code",
   "execution_count": 60,
   "metadata": {},
   "outputs": [
    {
     "name": "stdout",
     "output_type": "stream",
     "text": [
      "Train on 11610 samples, validate on 3870 samples\n",
      "Epoch 1/100\n",
      "11610/11610 [==============================] - 1s 84us/sample - loss: 1.0939 - val_loss: 0.6036\n",
      "Epoch 2/100\n",
      "11610/11610 [==============================] - 1s 68us/sample - loss: 0.5724 - val_loss: 0.5516\n",
      "Epoch 3/100\n",
      "11610/11610 [==============================] - 1s 69us/sample - loss: 0.5295 - val_loss: 0.5241\n",
      "Epoch 4/100\n",
      "11610/11610 [==============================] - 1s 66us/sample - loss: 0.5059 - val_loss: 0.5053\n",
      "Epoch 5/100\n",
      "11610/11610 [==============================] - 1s 68us/sample - loss: 0.4936 - val_loss: 0.4928\n",
      "Epoch 6/100\n",
      "11610/11610 [==============================] - 1s 67us/sample - loss: 0.4841 - val_loss: 0.4858\n",
      "Epoch 7/100\n",
      "11610/11610 [==============================] - 1s 67us/sample - loss: 0.4752 - val_loss: 0.4777\n",
      "Epoch 8/100\n",
      "11610/11610 [==============================] - 1s 68us/sample - loss: 0.4667 - val_loss: 0.4706\n",
      "Epoch 9/100\n",
      "11610/11610 [==============================] - 1s 67us/sample - loss: 0.4617 - val_loss: 0.4650\n",
      "Epoch 10/100\n",
      "11610/11610 [==============================] - 1s 67us/sample - loss: 0.4553 - val_loss: 0.4615\n",
      "Epoch 11/100\n",
      "11610/11610 [==============================] - 1s 68us/sample - loss: 0.4525 - val_loss: 0.4557\n",
      "Epoch 12/100\n",
      "11610/11610 [==============================] - 1s 61us/sample - loss: 0.4457 - val_loss: 0.4523\n",
      "Epoch 13/100\n",
      "11610/11610 [==============================] - 1s 65us/sample - loss: 0.4429 - val_loss: 0.4489\n",
      "Epoch 14/100\n",
      "11610/11610 [==============================] - 1s 63us/sample - loss: 0.4394 - val_loss: 0.4454\n",
      "Epoch 15/100\n",
      "11610/11610 [==============================] - 1s 65us/sample - loss: 0.4357 - val_loss: 0.4413\n",
      "Epoch 16/100\n",
      "11610/11610 [==============================] - 1s 64us/sample - loss: 0.4358 - val_loss: 0.4392\n",
      "Epoch 17/100\n",
      "11610/11610 [==============================] - 1s 63us/sample - loss: 0.4315 - val_loss: 0.4380\n",
      "Epoch 18/100\n",
      "11610/11610 [==============================] - 1s 64us/sample - loss: 0.4279 - val_loss: 0.4350\n",
      "Epoch 19/100\n",
      "11610/11610 [==============================] - 1s 64us/sample - loss: 0.4251 - val_loss: 0.4344\n",
      "Epoch 20/100\n",
      "11610/11610 [==============================] - 1s 67us/sample - loss: 0.4240 - val_loss: 0.4309\n",
      "Epoch 21/100\n",
      "11610/11610 [==============================] - 1s 62us/sample - loss: 0.4217 - val_loss: 0.4273\n",
      "Epoch 22/100\n",
      "11610/11610 [==============================] - 1s 63us/sample - loss: 0.4199 - val_loss: 0.4284\n",
      "Epoch 23/100\n",
      "11610/11610 [==============================] - 1s 61us/sample - loss: 0.4185 - val_loss: 0.4231\n",
      "Epoch 24/100\n",
      "11610/11610 [==============================] - 1s 62us/sample - loss: 0.4156 - val_loss: 0.4226\n",
      "Epoch 25/100\n",
      "11610/11610 [==============================] - 1s 64us/sample - loss: 0.4139 - val_loss: 0.4198\n",
      "Epoch 26/100\n",
      "11610/11610 [==============================] - 1s 63us/sample - loss: 0.4120 - val_loss: 0.4193\n",
      "Epoch 27/100\n",
      "11610/11610 [==============================] - 1s 63us/sample - loss: 0.4114 - val_loss: 0.4161\n",
      "Epoch 28/100\n",
      "11610/11610 [==============================] - 1s 67us/sample - loss: 0.4098 - val_loss: 0.4147\n",
      "Epoch 29/100\n",
      "11610/11610 [==============================] - 1s 66us/sample - loss: 0.4071 - val_loss: 0.4132\n",
      "Epoch 30/100\n",
      "11610/11610 [==============================] - 1s 63us/sample - loss: 0.4079 - val_loss: 0.4130\n",
      "Epoch 31/100\n",
      "11610/11610 [==============================] - 1s 64us/sample - loss: 0.4044 - val_loss: 0.4108\n",
      "Epoch 32/100\n",
      "11610/11610 [==============================] - 1s 64us/sample - loss: 0.4038 - val_loss: 0.4086\n",
      "Epoch 33/100\n",
      "11610/11610 [==============================] - 1s 61us/sample - loss: 0.4019 - val_loss: 0.4074\n",
      "Epoch 34/100\n",
      "11610/11610 [==============================] - 1s 62us/sample - loss: 0.4001 - val_loss: 0.4056\n",
      "Epoch 35/100\n",
      "11610/11610 [==============================] - 1s 62us/sample - loss: 0.3987 - val_loss: 0.4050\n",
      "Epoch 36/100\n",
      "11610/11610 [==============================] - 1s 63us/sample - loss: 0.3974 - val_loss: 0.4039\n",
      "Epoch 37/100\n",
      "11610/11610 [==============================] - 1s 61us/sample - loss: 0.3966 - val_loss: 0.4031\n",
      "Epoch 38/100\n",
      "11610/11610 [==============================] - 1s 61us/sample - loss: 0.3949 - val_loss: 0.4015\n",
      "Epoch 39/100\n",
      "11610/11610 [==============================] - 1s 62us/sample - loss: 0.3942 - val_loss: 0.4009\n",
      "Epoch 40/100\n",
      "11610/11610 [==============================] - 1s 64us/sample - loss: 0.3932 - val_loss: 0.4003\n",
      "Epoch 41/100\n",
      "11610/11610 [==============================] - 1s 64us/sample - loss: 0.3941 - val_loss: 0.4001\n",
      "Epoch 42/100\n",
      "11610/11610 [==============================] - 1s 66us/sample - loss: 0.3932 - val_loss: 0.3977\n",
      "Epoch 43/100\n",
      "11610/11610 [==============================] - 1s 64us/sample - loss: 0.3902 - val_loss: 0.3965\n",
      "Epoch 44/100\n",
      "11610/11610 [==============================] - 1s 62us/sample - loss: 0.3890 - val_loss: 0.3949\n",
      "Epoch 45/100\n",
      "11610/11610 [==============================] - 1s 61us/sample - loss: 0.3880 - val_loss: 0.3951\n",
      "Epoch 46/100\n",
      "11610/11610 [==============================] - 1s 63us/sample - loss: 0.3867 - val_loss: 0.3931\n",
      "Epoch 47/100\n",
      "11610/11610 [==============================] - 1s 63us/sample - loss: 0.3860 - val_loss: 0.3924\n",
      "Epoch 48/100\n",
      "11610/11610 [==============================] - 1s 62us/sample - loss: 0.3858 - val_loss: 0.3912\n",
      "Epoch 49/100\n",
      "11610/11610 [==============================] - 1s 62us/sample - loss: 0.3844 - val_loss: 0.3920\n",
      "Epoch 50/100\n",
      "11610/11610 [==============================] - 1s 62us/sample - loss: 0.3835 - val_loss: 0.3898\n",
      "Epoch 51/100\n",
      "11610/11610 [==============================] - 1s 62us/sample - loss: 0.3828 - val_loss: 0.3898\n",
      "Epoch 52/100\n",
      "11610/11610 [==============================] - 1s 61us/sample - loss: 0.3828 - val_loss: 0.3892\n",
      "Epoch 53/100\n",
      "11610/11610 [==============================] - 1s 64us/sample - loss: 0.3824 - val_loss: 0.3879\n",
      "Epoch 54/100\n",
      "11610/11610 [==============================] - 1s 66us/sample - loss: 0.3800 - val_loss: 0.3874\n",
      "Epoch 55/100\n",
      "11610/11610 [==============================] - 1s 63us/sample - loss: 0.3790 - val_loss: 0.3862\n",
      "Epoch 56/100\n",
      "11610/11610 [==============================] - 1s 64us/sample - loss: 0.3790 - val_loss: 0.3872\n",
      "Epoch 57/100\n",
      "11610/11610 [==============================] - 1s 63us/sample - loss: 0.3790 - val_loss: 0.3838\n",
      "Epoch 58/100\n",
      "11610/11610 [==============================] - 1s 63us/sample - loss: 0.3777 - val_loss: 0.3841\n",
      "Epoch 59/100\n",
      "11610/11610 [==============================] - 1s 63us/sample - loss: 0.3792 - val_loss: 0.3830\n",
      "Epoch 60/100\n",
      "11610/11610 [==============================] - 1s 64us/sample - loss: 0.3759 - val_loss: 0.3813\n",
      "Epoch 61/100\n",
      "11610/11610 [==============================] - 1s 63us/sample - loss: 0.3784 - val_loss: 0.3809\n",
      "Epoch 62/100\n",
      "11610/11610 [==============================] - 1s 63us/sample - loss: 0.3752 - val_loss: 0.3817\n",
      "Epoch 63/100\n",
      "11610/11610 [==============================] - 1s 65us/sample - loss: 0.3745 - val_loss: 0.3805\n",
      "Epoch 64/100\n",
      "11610/11610 [==============================] - 1s 64us/sample - loss: 0.3738 - val_loss: 0.3803\n",
      "Epoch 65/100\n",
      "11610/11610 [==============================] - 1s 63us/sample - loss: 0.3741 - val_loss: 0.3787\n",
      "Epoch 66/100\n",
      "11610/11610 [==============================] - 1s 64us/sample - loss: 0.3743 - val_loss: 0.3782\n",
      "Epoch 67/100\n",
      "11610/11610 [==============================] - 1s 63us/sample - loss: 0.3727 - val_loss: 0.3774\n",
      "Epoch 68/100\n",
      "11610/11610 [==============================] - 1s 64us/sample - loss: 0.3717 - val_loss: 0.3776\n",
      "Epoch 69/100\n",
      "11610/11610 [==============================] - 1s 63us/sample - loss: 0.3729 - val_loss: 0.3763\n",
      "Epoch 70/100\n",
      "11610/11610 [==============================] - 1s 67us/sample - loss: 0.3705 - val_loss: 0.3775\n",
      "Epoch 71/100\n",
      "11610/11610 [==============================] - 1s 67us/sample - loss: 0.3706 - val_loss: 0.3756\n",
      "Epoch 72/100\n",
      "11610/11610 [==============================] - 1s 66us/sample - loss: 0.3700 - val_loss: 0.3756\n",
      "Epoch 73/100\n",
      "11610/11610 [==============================] - 1s 66us/sample - loss: 0.3692 - val_loss: 0.3774\n",
      "Epoch 74/100\n",
      "11610/11610 [==============================] - 1s 64us/sample - loss: 0.3703 - val_loss: 0.3734\n",
      "Epoch 75/100\n",
      "11610/11610 [==============================] - 1s 61us/sample - loss: 0.3696 - val_loss: 0.3743\n",
      "Epoch 76/100\n",
      "11610/11610 [==============================] - 1s 61us/sample - loss: 0.3687 - val_loss: 0.3745\n",
      "Epoch 77/100\n",
      "11610/11610 [==============================] - 1s 62us/sample - loss: 0.3677 - val_loss: 0.3731\n",
      "Epoch 78/100\n",
      "11610/11610 [==============================] - 1s 62us/sample - loss: 0.3687 - val_loss: 0.3733\n",
      "Epoch 79/100\n",
      "11610/11610 [==============================] - 1s 61us/sample - loss: 0.3658 - val_loss: 0.3720\n",
      "Epoch 80/100\n",
      "11610/11610 [==============================] - 1s 62us/sample - loss: 0.3682 - val_loss: 0.3714\n",
      "Epoch 81/100\n",
      "11610/11610 [==============================] - 1s 62us/sample - loss: 0.3660 - val_loss: 0.3697\n",
      "Epoch 82/100\n",
      "11610/11610 [==============================] - 1s 61us/sample - loss: 0.3652 - val_loss: 0.3705\n",
      "Epoch 83/100\n",
      "11610/11610 [==============================] - 1s 61us/sample - loss: 0.3652 - val_loss: 0.3712\n",
      "Epoch 84/100\n",
      "11610/11610 [==============================] - 1s 62us/sample - loss: 0.3643 - val_loss: 0.3691\n",
      "Epoch 85/100\n",
      "11610/11610 [==============================] - 1s 64us/sample - loss: 0.3639 - val_loss: 0.3688\n",
      "Epoch 86/100\n",
      "11610/11610 [==============================] - 1s 63us/sample - loss: 0.3638 - val_loss: 0.3680\n",
      "Epoch 87/100\n",
      "11610/11610 [==============================] - 1s 64us/sample - loss: 0.3621 - val_loss: 0.3698\n",
      "Epoch 88/100\n",
      "11610/11610 [==============================] - 1s 64us/sample - loss: 0.3625 - val_loss: 0.3679\n",
      "Epoch 89/100\n",
      "11610/11610 [==============================] - 1s 64us/sample - loss: 0.3620 - val_loss: 0.3666\n",
      "Epoch 90/100\n",
      "11610/11610 [==============================] - 1s 64us/sample - loss: 0.3621 - val_loss: 0.3687\n",
      "Epoch 91/100\n",
      "11610/11610 [==============================] - 1s 64us/sample - loss: 0.3645 - val_loss: 0.3669\n",
      "Epoch 92/100\n",
      "11610/11610 [==============================] - 1s 64us/sample - loss: 0.3616 - val_loss: 0.3664\n",
      "Epoch 93/100\n",
      "11610/11610 [==============================] - 1s 63us/sample - loss: 0.3759 - val_loss: 0.3703\n",
      "Epoch 94/100\n",
      "11610/11610 [==============================] - 1s 63us/sample - loss: 0.3647 - val_loss: 0.3659\n",
      "Epoch 95/100\n",
      "11610/11610 [==============================] - 1s 64us/sample - loss: 0.3703 - val_loss: 0.3667\n",
      "Epoch 96/100\n",
      "11610/11610 [==============================] - 1s 63us/sample - loss: 0.3615 - val_loss: 0.3660\n",
      "Epoch 97/100\n",
      "11610/11610 [==============================] - 1s 63us/sample - loss: 0.3607 - val_loss: 0.3653\n",
      "Epoch 98/100\n",
      "11610/11610 [==============================] - 1s 64us/sample - loss: 0.3570 - val_loss: 0.3657\n",
      "Epoch 99/100\n",
      "11610/11610 [==============================] - 1s 63us/sample - loss: 0.3572 - val_loss: 0.3623\n",
      "Epoch 100/100\n",
      "11610/11610 [==============================] - 1s 63us/sample - loss: 0.3567 - val_loss: 0.3643\n"
     ]
    },
    {
     "data": {
      "text/plain": [
       "<tensorflow.python.keras.callbacks.History at 0x144050a5c18>"
      ]
     },
     "execution_count": 60,
     "metadata": {},
     "output_type": "execute_result"
    }
   ],
   "source": [
    "keras_reg.fit(X_train, y_train, epochs=100, \n",
    "              validation_data=(X_valid, y_valid),\n",
    "              callbacks=[keras.callbacks.EarlyStopping(patience=10)]\n",
    ")"
   ]
  },
  {
   "cell_type": "code",
   "execution_count": null,
   "metadata": {},
   "outputs": [],
   "source": [
    "mse_test = keras_reg.score(X_test, y_test)\n",
    "y_pred = keras_reg.predict(X_new, verbose=0)"
   ]
  },
  {
   "cell_type": "code",
   "execution_count": 65,
   "metadata": {},
   "outputs": [
    {
     "data": {
      "text/plain": [
       "array([2.0341597, 1.8519298, 2.5585146], dtype=float32)"
      ]
     },
     "execution_count": 65,
     "metadata": {},
     "output_type": "execute_result"
    }
   ],
   "source": [
    "y_pred"
   ]
  },
  {
   "cell_type": "code",
   "execution_count": 66,
   "metadata": {},
   "outputs": [],
   "source": [
    "from scipy.stats import reciprocal\n",
    "from sklearn.model_selection import RandomizedSearchCV\n",
    "\n",
    "param_distribs = {\n",
    "    \"n_hidden\": [0, 1, 2, 3],\n",
    "    \"n_neurons\": np.arange(1, 100),\n",
    "    \"learning_rate\": reciprocal(3e-4, 3e-2),\n",
    "}"
   ]
  },
  {
   "cell_type": "code",
   "execution_count": 67,
   "metadata": {},
   "outputs": [],
   "source": [
    "rnd_search_cv = RandomizedSearchCV(keras_reg, param_distribs, n_iter=10, cv=3)"
   ]
  },
  {
   "cell_type": "code",
   "execution_count": 69,
   "metadata": {},
   "outputs": [
    {
     "data": {
      "text/plain": [
       "'\\nrnd_search_cv.fit(X_train, y_train, epochs=100,\\n                  validation_data=(X_valid, y_valid),\\n                  callbacks=[keras.callbacks.EarlyStopping(patience=5)]\\n)\\n'"
      ]
     },
     "execution_count": 69,
     "metadata": {},
     "output_type": "execute_result"
    }
   ],
   "source": [
    "'''\n",
    "rnd_search_cv.fit(X_train, y_train, epochs=100,\n",
    "                  validation_data=(X_valid, y_valid),\n",
    "                  callbacks=[keras.callbacks.EarlyStopping(patience=5)]\n",
    ")\n",
    "'''"
   ]
  },
  {
   "cell_type": "markdown",
   "metadata": {},
   "source": [
    "## Exercices"
   ]
  },
  {
   "cell_type": "markdown",
   "metadata": {},
   "source": [
    "4. Why was the logistic activation function a key ingredient in training the first MLPs?  \n",
    "    It lets have a \"gradient\" in the value instead of a step.\n",
    "5. Name three popular activation functions. Can you draw them?  \n",
    "    Relu, Tanh and sigmoid."
   ]
  }
 ],
 "metadata": {
  "file_extension": ".py",
  "kernelspec": {
   "display_name": "Python 3",
   "language": "python",
   "name": "python3"
  },
  "language_info": {
   "codemirror_mode": {
    "name": "ipython",
    "version": 3
   },
   "file_extension": ".py",
   "mimetype": "text/x-python",
   "name": "python",
   "nbconvert_exporter": "python",
   "pygments_lexer": "ipython3",
   "version": "3.6.8"
  },
  "mimetype": "text/x-python",
  "name": "python",
  "npconvert_exporter": "python",
  "pygments_lexer": "ipython3",
  "version": 3
 },
 "nbformat": 4,
 "nbformat_minor": 2
}
